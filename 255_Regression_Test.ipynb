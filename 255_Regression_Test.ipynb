{
 "cells": [
  {
   "cell_type": "markdown",
   "id": "b1c4328b",
   "metadata": {},
   "source": [
    "## Imports"
   ]
  },
  {
   "cell_type": "code",
   "execution_count": 69,
   "id": "31dde871",
   "metadata": {},
   "outputs": [],
   "source": [
    "import time\n",
    "import numpy as np\n",
    "import pandas as pd\n",
    "import xgboost as xgb\n",
    "from sklearn.decomposition import PCA\n",
    "from sklearn.linear_model import LinearRegression\n",
    "from sklearn.linear_model import Lasso\n",
    "from sklearn.linear_model import Ridge\n",
    "from sklearn.ensemble import AdaBoostRegressor\n",
    "from sklearn.ensemble import BaggingRegressor\n",
    "from sklearn.metrics import r2_score\n",
    "from joblib import dump, load"
   ]
  },
  {
   "cell_type": "markdown",
   "id": "31317878",
   "metadata": {},
   "source": [
    "## Load Test Data"
   ]
  },
  {
   "cell_type": "code",
   "execution_count": 79,
   "id": "75587872",
   "metadata": {},
   "outputs": [],
   "source": [
    "df = pd.read_csv('test_data_reg.csv', sep=',', header=None)\n",
    "df = df.iloc[1:, 1:]"
   ]
  },
  {
   "cell_type": "code",
   "execution_count": 80,
   "id": "54fb50bf",
   "metadata": {},
   "outputs": [],
   "source": [
    "X = df.iloc[:,1:]\n",
    "y = df.iloc[:,0]"
   ]
  },
  {
   "cell_type": "markdown",
   "id": "af4de342",
   "metadata": {},
   "source": [
    "## Load Models"
   ]
  },
  {
   "cell_type": "markdown",
   "id": "0630bc65",
   "metadata": {},
   "source": [
    "### Load Models That Didn't Use Dimensionality Reduction"
   ]
  },
  {
   "cell_type": "code",
   "execution_count": 83,
   "id": "d984f71d",
   "metadata": {},
   "outputs": [],
   "source": [
    "lin_no_dr_clf = load('models/linear_no_dr.joblib')\n",
    "ridge_no_dr_clf = load('models/ridge_no_dr.joblib')\n",
    "lasso_no_dr_clf = load('models/lasso_no_dr.joblib')\n",
    "xgboost_no_dr_clf = load('models/xgboost_no_dr.joblib')\n",
    "adaboost_no_dr_clf = load('models/adaboost_no_dr.joblib')"
   ]
  },
  {
   "cell_type": "markdown",
   "id": "a61adbd8",
   "metadata": {},
   "source": [
    "### Load Models That Used Dimensionality Reduction"
   ]
  },
  {
   "cell_type": "code",
   "execution_count": 84,
   "id": "67256b97",
   "metadata": {},
   "outputs": [],
   "source": [
    "lin_dr_clf = load('models/linear_dr.joblib')\n",
    "ridge_dr_clf = load('models/ridge_dr.joblib')\n",
    "lasso_dr_clf = load('models/lasso_dr.joblib')\n",
    "xgboost_dr_clf = load('models/xgboost_dr.joblib')\n",
    "adaboost_dr_clf = load('models/adaboost_dr.joblib')"
   ]
  },
  {
   "cell_type": "markdown",
   "id": "f883c0b4",
   "metadata": {},
   "source": [
    "## Print Scores"
   ]
  },
  {
   "cell_type": "markdown",
   "id": "d24373c8",
   "metadata": {},
   "source": [
    "### Print Scores of Models That Didn't Use Dimensionality Reduction"
   ]
  },
  {
   "cell_type": "code",
   "execution_count": 85,
   "id": "e747392b",
   "metadata": {},
   "outputs": [
    {
     "name": "stdout",
     "output_type": "stream",
     "text": [
      "R2 Score:\n",
      "Linear: -163000411.6510363\n",
      "Ridge: -162978189.82802147\n",
      "Lasso: -7.165243768914031e-05\n",
      "XGBoost: -19.024465143058414\n",
      "Adaboost: -0.2109343380652433\n"
     ]
    }
   ],
   "source": [
    "print('R2 Score:')\n",
    "print('Linear: ' + str(lin_no_dr_clf.score(X, y)))\n",
    "print('Ridge: ' + str(ridge_no_dr_clf.score(X, y)))\n",
    "print('Lasso: ' + str(lasso_no_dr_clf.score(X, y)))\n",
    "print('XGBoost: ' + str(xgboost_no_dr_clf.score(X, y)))\n",
    "print('Adaboost: ' + str(adaboost_no_dr_clf.score(X, y)))"
   ]
  },
  {
   "cell_type": "markdown",
   "id": "75e6f5e9",
   "metadata": {},
   "source": [
    "### Load PCA Data Transformer"
   ]
  },
  {
   "cell_type": "code",
   "execution_count": 86,
   "id": "fd3ed45e",
   "metadata": {},
   "outputs": [],
   "source": [
    "pca = load('pca.joblib')"
   ]
  },
  {
   "cell_type": "markdown",
   "id": "a5bc6ce2",
   "metadata": {},
   "source": [
    "### Print Scores of Models That Used Dimensionality Reduction"
   ]
  },
  {
   "cell_type": "code",
   "execution_count": 87,
   "id": "392ec912",
   "metadata": {},
   "outputs": [
    {
     "name": "stdout",
     "output_type": "stream",
     "text": [
      "R2 Score:\n",
      "Linear: -129924182.39479725\n",
      "Ridge: -129653792.9841987\n",
      "Lasso: -7.165243768914031e-05\n",
      "XGBoost: -3.6871923652958234\n",
      "Adaboost: -0.3862090641054614\n"
     ]
    }
   ],
   "source": [
    "x_dr = pca.transform(X)\n",
    "print('R2 Score:')\n",
    "print('Linear: ' + str(lin_dr_clf.score(x_dr, y)))\n",
    "print('Ridge: ' + str(ridge_dr_clf.score(x_dr, y)))\n",
    "print('Lasso: ' + str(lasso_dr_clf.score(x_dr, y)))\n",
    "print('XGBoost: ' + str(xgboost_dr_clf.score(x_dr, y)))\n",
    "print('Adaboost: ' + str(adaboost_dr_clf.score(x_dr, y)))"
   ]
  },
  {
   "cell_type": "code",
   "execution_count": null,
   "id": "0f48ecc5",
   "metadata": {},
   "outputs": [],
   "source": []
  }
 ],
 "metadata": {
  "kernelspec": {
   "display_name": "Python 3 (ipykernel)",
   "language": "python",
   "name": "python3"
  },
  "language_info": {
   "codemirror_mode": {
    "name": "ipython",
    "version": 3
   },
   "file_extension": ".py",
   "mimetype": "text/x-python",
   "name": "python",
   "nbconvert_exporter": "python",
   "pygments_lexer": "ipython3",
   "version": "3.9.12"
  }
 },
 "nbformat": 4,
 "nbformat_minor": 5
}
