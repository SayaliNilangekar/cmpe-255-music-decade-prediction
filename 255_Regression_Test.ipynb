{
 "cells": [
  {
   "cell_type": "markdown",
   "id": "7e614fc2",
   "metadata": {},
   "source": [
    "## Imports"
   ]
  },
  {
   "cell_type": "code",
   "execution_count": 69,
   "id": "d85dd988",
   "metadata": {},
   "outputs": [],
   "source": [
    "import time\n",
    "import numpy as np\n",
    "import pandas as pd\n",
    "import xgboost as xgb\n",
    "from sklearn.decomposition import PCA\n",
    "from sklearn.linear_model import LinearRegression\n",
    "from sklearn.linear_model import Lasso\n",
    "from sklearn.linear_model import Ridge\n",
    "from sklearn.ensemble import AdaBoostRegressor\n",
    "from sklearn.ensemble import BaggingRegressor\n",
    "from sklearn.metrics import r2_score\n",
    "from joblib import dump, load"
   ]
  },
  {
   "cell_type": "markdown",
   "id": "741380f5",
   "metadata": {},
   "source": [
    "## Load Test Data"
   ]
  },
  {
   "cell_type": "code",
   "execution_count": 79,
   "id": "48e69409",
   "metadata": {},
   "outputs": [],
   "source": [
    "df = pd.read_csv('test_data_reg.csv', sep=',', header=None)\n",
    "df = df.iloc[1:, 1:]"
   ]
  },
  {
   "cell_type": "code",
   "execution_count": 80,
   "id": "398978ee",
   "metadata": {},
   "outputs": [],
   "source": [
    "X = df.iloc[:,1:]\n",
    "y = df.iloc[:,0]"
   ]
  },
  {
   "cell_type": "code",
   "execution_count": 88,
   "id": "19cd9437",
   "metadata": {},
   "outputs": [],
   "source": [
    "scaler = load('minmaxscaler.joblib')"
   ]
  },
  {
   "cell_type": "code",
   "execution_count": 89,
   "id": "3f014752",
   "metadata": {},
   "outputs": [],
   "source": [
    "X = scaler.transform(X)"
   ]
  },
  {
   "cell_type": "markdown",
   "id": "ed2e44fa",
   "metadata": {},
   "source": [
    "## Load Models"
   ]
  },
  {
   "cell_type": "markdown",
   "id": "3bee2211",
   "metadata": {},
   "source": [
    "### Load Models That Didn't Use Dimensionality Reduction"
   ]
  },
  {
   "cell_type": "code",
   "execution_count": 90,
   "id": "764d5788",
   "metadata": {},
   "outputs": [],
   "source": [
    "lin_no_dr_clf = load('models/linear_no_dr.joblib')\n",
    "ridge_no_dr_clf = load('models/ridge_no_dr.joblib')\n",
    "lasso_no_dr_clf = load('models/lasso_no_dr.joblib')\n",
    "xgboost_no_dr_clf = load('models/xgboost_no_dr.joblib')\n",
    "adaboost_no_dr_clf = load('models/adaboost_no_dr.joblib')"
   ]
  },
  {
   "cell_type": "markdown",
   "id": "f0e7ca1e",
   "metadata": {},
   "source": [
    "### Load Models That Used Dimensionality Reduction"
   ]
  },
  {
   "cell_type": "code",
   "execution_count": 91,
   "id": "886c7ecd",
   "metadata": {},
   "outputs": [],
   "source": [
    "lin_dr_clf = load('models/linear_dr.joblib')\n",
    "ridge_dr_clf = load('models/ridge_dr.joblib')\n",
    "lasso_dr_clf = load('models/lasso_dr.joblib')\n",
    "xgboost_dr_clf = load('models/xgboost_dr.joblib')\n",
    "adaboost_dr_clf = load('models/adaboost_dr.joblib')"
   ]
  },
  {
   "cell_type": "markdown",
   "id": "646bf4e5",
   "metadata": {},
   "source": [
    "## Print Scores"
   ]
  },
  {
   "cell_type": "markdown",
   "id": "f154bea7",
   "metadata": {},
   "source": [
    "### Print Scores of Models That Didn't Use Dimensionality Reduction"
   ]
  },
  {
   "cell_type": "code",
   "execution_count": 92,
   "id": "6fdaf571",
   "metadata": {},
   "outputs": [
    {
     "name": "stdout",
     "output_type": "stream",
     "text": [
      "R2 Score:\n",
      "Linear: 0.23556746768086068\n",
      "Ridge: 0.23565093125332204\n",
      "Lasso: -7.165243768914031e-05\n",
      "XGBoost: 0.2873631468024399\n",
      "Adaboost: -0.41020066600616834\n"
     ]
    }
   ],
   "source": [
    "print('R2 Score:')\n",
    "print('Linear: ' + str(lin_no_dr_clf.score(X, y)))\n",
    "print('Ridge: ' + str(ridge_no_dr_clf.score(X, y)))\n",
    "print('Lasso: ' + str(lasso_no_dr_clf.score(X, y)))\n",
    "print('XGBoost: ' + str(xgboost_no_dr_clf.score(X, y)))\n",
    "print('Adaboost: ' + str(adaboost_no_dr_clf.score(X, y)))"
   ]
  },
  {
   "cell_type": "markdown",
   "id": "63a5660a",
   "metadata": {},
   "source": [
    "### Load PCA Data Transformer"
   ]
  },
  {
   "cell_type": "code",
   "execution_count": 93,
   "id": "2a5636f4",
   "metadata": {},
   "outputs": [],
   "source": [
    "pca = load('pca.joblib')"
   ]
  },
  {
   "cell_type": "markdown",
   "id": "4873cef8",
   "metadata": {},
   "source": [
    "### Print Scores of Models That Used Dimensionality Reduction"
   ]
  },
  {
   "cell_type": "code",
   "execution_count": 94,
   "id": "98bfbd6f",
   "metadata": {},
   "outputs": [
    {
     "name": "stdout",
     "output_type": "stream",
     "text": [
      "R2 Score:\n",
      "Linear: 0.2184855789362672\n",
      "Ridge: 0.2184720772778065\n",
      "Lasso: -7.165243768914031e-05\n",
      "XGBoost: 0.2721456960670422\n",
      "Adaboost: -0.415355531343508\n"
     ]
    }
   ],
   "source": [
    "x_dr = pca.transform(X)\n",
    "print('R2 Score:')\n",
    "print('Linear: ' + str(lin_dr_clf.score(x_dr, y)))\n",
    "print('Ridge: ' + str(ridge_dr_clf.score(x_dr, y)))\n",
    "print('Lasso: ' + str(lasso_dr_clf.score(x_dr, y)))\n",
    "print('XGBoost: ' + str(xgboost_dr_clf.score(x_dr, y)))\n",
    "print('Adaboost: ' + str(adaboost_dr_clf.score(x_dr, y)))"
   ]
  },
  {
   "cell_type": "code",
   "execution_count": null,
   "id": "5033e018",
   "metadata": {},
   "outputs": [],
   "source": []
  }
 ],
 "metadata": {
  "kernelspec": {
   "display_name": "Python 3 (ipykernel)",
   "language": "python",
   "name": "python3"
  },
  "language_info": {
   "codemirror_mode": {
    "name": "ipython",
    "version": 3
   },
   "file_extension": ".py",
   "mimetype": "text/x-python",
   "name": "python",
   "nbconvert_exporter": "python",
   "pygments_lexer": "ipython3",
   "version": "3.9.12"
  }
 },
 "nbformat": 4,
 "nbformat_minor": 5
}
