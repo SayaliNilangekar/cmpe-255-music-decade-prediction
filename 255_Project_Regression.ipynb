{
 "cells": [
  {
   "cell_type": "markdown",
   "id": "63c91d79",
   "metadata": {},
   "source": [
    "## Import Libraries"
   ]
  },
  {
   "cell_type": "code",
   "execution_count": 59,
   "id": "a476c4f2",
   "metadata": {},
   "outputs": [],
   "source": [
    "import time\n",
    "import numpy as np\n",
    "import pandas as pd\n",
    "import matplotlib.pyplot as plt\n",
    "import xgboost as xgb\n",
    "from imblearn.over_sampling import RandomOverSampler\n",
    "from sklearn.preprocessing import StandardScaler\n",
    "from sklearn.preprocessing import MinMaxScaler\n",
    "from sklearn.decomposition import PCA\n",
    "from sklearn.linear_model import LinearRegression\n",
    "from sklearn.linear_model import Lasso\n",
    "from sklearn.linear_model import Ridge\n",
    "from sklearn.ensemble import AdaBoostRegressor\n",
    "from sklearn.ensemble import BaggingRegressor\n",
    "from sklearn.model_selection import KFold\n",
    "from sklearn.model_selection import cross_val_score"
   ]
  },
  {
   "cell_type": "markdown",
   "id": "c7f11fe9",
   "metadata": {},
   "source": [
    "## Import Data"
   ]
  },
  {
   "cell_type": "code",
   "execution_count": 60,
   "id": "86f29405",
   "metadata": {},
   "outputs": [],
   "source": [
    "df = pd.read_csv('YearPredictionMSD.txt', sep=',', header=None)"
   ]
  },
  {
   "cell_type": "code",
   "execution_count": 61,
   "id": "ec3f5445",
   "metadata": {},
   "outputs": [],
   "source": [
    "X = df.iloc[:,1:]\n",
    "y = df.iloc[:,0]"
   ]
  },
  {
   "cell_type": "code",
   "execution_count": 62,
   "id": "1da54825",
   "metadata": {},
   "outputs": [
    {
     "data": {
      "text/html": [
       "<div>\n",
       "<style scoped>\n",
       "    .dataframe tbody tr th:only-of-type {\n",
       "        vertical-align: middle;\n",
       "    }\n",
       "\n",
       "    .dataframe tbody tr th {\n",
       "        vertical-align: top;\n",
       "    }\n",
       "\n",
       "    .dataframe thead th {\n",
       "        text-align: right;\n",
       "    }\n",
       "</style>\n",
       "<table border=\"1\" class=\"dataframe\">\n",
       "  <thead>\n",
       "    <tr style=\"text-align: right;\">\n",
       "      <th></th>\n",
       "      <th>1</th>\n",
       "      <th>2</th>\n",
       "      <th>3</th>\n",
       "      <th>4</th>\n",
       "      <th>5</th>\n",
       "      <th>6</th>\n",
       "      <th>7</th>\n",
       "      <th>8</th>\n",
       "      <th>9</th>\n",
       "      <th>10</th>\n",
       "      <th>...</th>\n",
       "      <th>81</th>\n",
       "      <th>82</th>\n",
       "      <th>83</th>\n",
       "      <th>84</th>\n",
       "      <th>85</th>\n",
       "      <th>86</th>\n",
       "      <th>87</th>\n",
       "      <th>88</th>\n",
       "      <th>89</th>\n",
       "      <th>90</th>\n",
       "    </tr>\n",
       "  </thead>\n",
       "  <tbody>\n",
       "    <tr>\n",
       "      <th>0</th>\n",
       "      <td>49.94357</td>\n",
       "      <td>21.47114</td>\n",
       "      <td>73.07750</td>\n",
       "      <td>8.74861</td>\n",
       "      <td>-17.40628</td>\n",
       "      <td>-13.09905</td>\n",
       "      <td>-25.01202</td>\n",
       "      <td>-12.23257</td>\n",
       "      <td>7.83089</td>\n",
       "      <td>-2.46783</td>\n",
       "      <td>...</td>\n",
       "      <td>13.01620</td>\n",
       "      <td>-54.40548</td>\n",
       "      <td>58.99367</td>\n",
       "      <td>15.37344</td>\n",
       "      <td>1.11144</td>\n",
       "      <td>-23.08793</td>\n",
       "      <td>68.40795</td>\n",
       "      <td>-1.82223</td>\n",
       "      <td>-27.46348</td>\n",
       "      <td>2.26327</td>\n",
       "    </tr>\n",
       "    <tr>\n",
       "      <th>1</th>\n",
       "      <td>48.73215</td>\n",
       "      <td>18.42930</td>\n",
       "      <td>70.32679</td>\n",
       "      <td>12.94636</td>\n",
       "      <td>-10.32437</td>\n",
       "      <td>-24.83777</td>\n",
       "      <td>8.76630</td>\n",
       "      <td>-0.92019</td>\n",
       "      <td>18.76548</td>\n",
       "      <td>4.59210</td>\n",
       "      <td>...</td>\n",
       "      <td>5.66812</td>\n",
       "      <td>-19.68073</td>\n",
       "      <td>33.04964</td>\n",
       "      <td>42.87836</td>\n",
       "      <td>-9.90378</td>\n",
       "      <td>-32.22788</td>\n",
       "      <td>70.49388</td>\n",
       "      <td>12.04941</td>\n",
       "      <td>58.43453</td>\n",
       "      <td>26.92061</td>\n",
       "    </tr>\n",
       "    <tr>\n",
       "      <th>2</th>\n",
       "      <td>50.95714</td>\n",
       "      <td>31.85602</td>\n",
       "      <td>55.81851</td>\n",
       "      <td>13.41693</td>\n",
       "      <td>-6.57898</td>\n",
       "      <td>-18.54940</td>\n",
       "      <td>-3.27872</td>\n",
       "      <td>-2.35035</td>\n",
       "      <td>16.07017</td>\n",
       "      <td>1.39518</td>\n",
       "      <td>...</td>\n",
       "      <td>3.03800</td>\n",
       "      <td>26.05866</td>\n",
       "      <td>-50.92779</td>\n",
       "      <td>10.93792</td>\n",
       "      <td>-0.07568</td>\n",
       "      <td>43.20130</td>\n",
       "      <td>-115.00698</td>\n",
       "      <td>-0.05859</td>\n",
       "      <td>39.67068</td>\n",
       "      <td>-0.66345</td>\n",
       "    </tr>\n",
       "    <tr>\n",
       "      <th>3</th>\n",
       "      <td>48.24750</td>\n",
       "      <td>-1.89837</td>\n",
       "      <td>36.29772</td>\n",
       "      <td>2.58776</td>\n",
       "      <td>0.97170</td>\n",
       "      <td>-26.21683</td>\n",
       "      <td>5.05097</td>\n",
       "      <td>-10.34124</td>\n",
       "      <td>3.55005</td>\n",
       "      <td>-6.36304</td>\n",
       "      <td>...</td>\n",
       "      <td>34.57337</td>\n",
       "      <td>-171.70734</td>\n",
       "      <td>-16.96705</td>\n",
       "      <td>-46.67617</td>\n",
       "      <td>-12.51516</td>\n",
       "      <td>82.58061</td>\n",
       "      <td>-72.08993</td>\n",
       "      <td>9.90558</td>\n",
       "      <td>199.62971</td>\n",
       "      <td>18.85382</td>\n",
       "    </tr>\n",
       "    <tr>\n",
       "      <th>4</th>\n",
       "      <td>50.97020</td>\n",
       "      <td>42.20998</td>\n",
       "      <td>67.09964</td>\n",
       "      <td>8.46791</td>\n",
       "      <td>-15.85279</td>\n",
       "      <td>-16.81409</td>\n",
       "      <td>-12.48207</td>\n",
       "      <td>-9.37636</td>\n",
       "      <td>12.63699</td>\n",
       "      <td>0.93609</td>\n",
       "      <td>...</td>\n",
       "      <td>9.92661</td>\n",
       "      <td>-55.95724</td>\n",
       "      <td>64.92712</td>\n",
       "      <td>-17.72522</td>\n",
       "      <td>-1.49237</td>\n",
       "      <td>-7.50035</td>\n",
       "      <td>51.76631</td>\n",
       "      <td>7.88713</td>\n",
       "      <td>55.66926</td>\n",
       "      <td>28.74903</td>\n",
       "    </tr>\n",
       "  </tbody>\n",
       "</table>\n",
       "<p>5 rows × 90 columns</p>\n",
       "</div>"
      ],
      "text/plain": [
       "         1         2         3         4         5         6         7   \\\n",
       "0  49.94357  21.47114  73.07750   8.74861 -17.40628 -13.09905 -25.01202   \n",
       "1  48.73215  18.42930  70.32679  12.94636 -10.32437 -24.83777   8.76630   \n",
       "2  50.95714  31.85602  55.81851  13.41693  -6.57898 -18.54940  -3.27872   \n",
       "3  48.24750  -1.89837  36.29772   2.58776   0.97170 -26.21683   5.05097   \n",
       "4  50.97020  42.20998  67.09964   8.46791 -15.85279 -16.81409 -12.48207   \n",
       "\n",
       "         8         9        10  ...        81         82        83        84  \\\n",
       "0 -12.23257   7.83089 -2.46783  ...  13.01620  -54.40548  58.99367  15.37344   \n",
       "1  -0.92019  18.76548  4.59210  ...   5.66812  -19.68073  33.04964  42.87836   \n",
       "2  -2.35035  16.07017  1.39518  ...   3.03800   26.05866 -50.92779  10.93792   \n",
       "3 -10.34124   3.55005 -6.36304  ...  34.57337 -171.70734 -16.96705 -46.67617   \n",
       "4  -9.37636  12.63699  0.93609  ...   9.92661  -55.95724  64.92712 -17.72522   \n",
       "\n",
       "         85        86         87        88         89        90  \n",
       "0   1.11144 -23.08793   68.40795  -1.82223  -27.46348   2.26327  \n",
       "1  -9.90378 -32.22788   70.49388  12.04941   58.43453  26.92061  \n",
       "2  -0.07568  43.20130 -115.00698  -0.05859   39.67068  -0.66345  \n",
       "3 -12.51516  82.58061  -72.08993   9.90558  199.62971  18.85382  \n",
       "4  -1.49237  -7.50035   51.76631   7.88713   55.66926  28.74903  \n",
       "\n",
       "[5 rows x 90 columns]"
      ]
     },
     "execution_count": 62,
     "metadata": {},
     "output_type": "execute_result"
    }
   ],
   "source": [
    "X.head()"
   ]
  },
  {
   "cell_type": "code",
   "execution_count": 63,
   "id": "af598b7d",
   "metadata": {},
   "outputs": [
    {
     "data": {
      "text/plain": [
       "0    2001\n",
       "1    2001\n",
       "2    2001\n",
       "3    2001\n",
       "4    2001\n",
       "Name: 0, dtype: int64"
      ]
     },
     "execution_count": 63,
     "metadata": {},
     "output_type": "execute_result"
    }
   ],
   "source": [
    "y.head()"
   ]
  },
  {
   "cell_type": "markdown",
   "id": "739790dc",
   "metadata": {},
   "source": [
    "## Plot Data and Counts"
   ]
  },
  {
   "cell_type": "code",
   "execution_count": 64,
   "id": "c5afe9fb",
   "metadata": {},
   "outputs": [
    {
     "data": {
      "text/plain": [
       "Text(0.5, 1.0, 'Distribution of audio samples by year and count')"
      ]
     },
     "execution_count": 64,
     "metadata": {},
     "output_type": "execute_result"
    },
    {
     "data": {
      "image/png": "[encoded data removed]",
      "text/plain": [
       "<Figure size 432x288 with 1 Axes>"
      ]
     },
     "metadata": {
      "needs_background": "light"
     },
     "output_type": "display_data"
    }
   ],
   "source": [
    "years = y.unique()\n",
    "num_samples_per_year = dict(y.value_counts())\n",
    "counts_ordered = [num_samples_per_year[year] for year in years]\n",
    "plt.bar(years, counts_ordered, color='red')\n",
    "plt.xlabel('Year')\n",
    "plt.ylabel('Count')\n",
    "plt.title('Distribution of audio samples by year and count')"
   ]
  },
  {
   "cell_type": "markdown",
   "id": "4159ea5a",
   "metadata": {},
   "source": [
    "## Split Balanced Data into Train and Test"
   ]
  },
  {
   "cell_type": "code",
   "execution_count": 65,
   "id": "291445c5",
   "metadata": {},
   "outputs": [],
   "source": [
    "X_train = X.iloc[0:463715, :].to_numpy()\n",
    "y_train = y.iloc[0:463715].to_numpy()\n",
    "\n",
    "X_test = X.iloc[463715:, :].to_numpy()\n",
    "y_test = y.iloc[463715:].to_numpy()"
   ]
  },
  {
   "cell_type": "markdown",
   "id": "361a29cf",
   "metadata": {},
   "source": [
    "## Preprocessing"
   ]
  },
  {
   "cell_type": "code",
   "execution_count": 66,
   "id": "3d94ea17",
   "metadata": {},
   "outputs": [],
   "source": [
    "scaler = MinMaxScaler()\n",
    "scaler.fit(X_train) \n",
    "X_train = scaler.transform(X_train)\n",
    "X_test = scaler.transform(X_test)"
   ]
  },
  {
   "cell_type": "markdown",
   "id": "5bfa22a1",
   "metadata": {},
   "source": [
    "## Fitting Models Without  Dimensionality Reduction"
   ]
  },
  {
   "cell_type": "code",
   "execution_count": 67,
   "id": "f096733b",
   "metadata": {},
   "outputs": [],
   "source": [
    "kf = KFold(n_splits=5)\n",
    "scoring = 'neg_mean_squared_error'\n",
    "regressors_no_dr={'linear':None,'ridge':None,'lasso':None, 'xgboost':None, 'adaboost':None, 'bagging':None}\n",
    "scores_no_dr = []\n",
    "fit_times_no_dr = []\n",
    "cross_val_times_no_dr = []"
   ]
  },
  {
   "cell_type": "code",
   "execution_count": 68,
   "id": "c8386d69",
   "metadata": {},
   "outputs": [
    {
     "name": "stdout",
     "output_type": "stream",
     "text": [
      "Linear fit time: 0.9306864738464355\n",
      "Linear Cross Val time: 4.785707473754883\n",
      "Linear Cross Val Score: 91.4290277380091\n"
     ]
    }
   ],
   "source": [
    "regressors_no_dr['linear'] = LinearRegression()\n",
    "start_fit = time.time()\n",
    "regressors_no_dr['linear'].fit(X_train, y_train)\n",
    "end_fit = time.time()\n",
    "fit_elapsed = end_fit - start_fit\n",
    "print('Linear fit time: ' + str(fit_elapsed))\n",
    "fit_times_no_dr.append(fit_elapsed)\n",
    "\n",
    "start_cv = time.time()\n",
    "cv_score = cross_val_score(regressors_no_dr['linear'], X_train, y_train, cv=kf, scoring=scoring)\n",
    "end_cv = time.time()\n",
    "cv_elapsed = end_cv - start_cv\n",
    "print('Linear Cross Val time: ' + str(cv_elapsed))\n",
    "cross_val_times_no_dr.append(cv_elapsed)\n",
    "\n",
    "print('Linear Cross Val Score: ' + str(-1 * cv_score.mean()))\n",
    "scores_no_dr.append(-1 * cv_score.mean())"
   ]
  },
  {
   "cell_type": "code",
   "execution_count": 69,
   "id": "b074d757",
   "metadata": {},
   "outputs": [
    {
     "name": "stdout",
     "output_type": "stream",
     "text": [
      "Ridge fit time: 0.30466198921203613\n",
      "Ridge Cross Val time: 1.7212939262390137\n",
      "Ridge Cross Val Score: 91.42775469990443\n"
     ]
    }
   ],
   "source": [
    "regressors_no_dr['ridge'] = Ridge()\n",
    "start_fit = time.time()\n",
    "regressors_no_dr['ridge'].fit(X_train, y_train)\n",
    "end_fit = time.time()\n",
    "fit_elapsed = end_fit - start_fit\n",
    "print('Ridge fit time: ' + str(fit_elapsed))\n",
    "fit_times_no_dr.append(fit_elapsed)\n",
    "\n",
    "start_cv = time.time()\n",
    "cv_score = cross_val_score(regressors_no_dr['ridge'], X_train, y_train, cv=kf, scoring=scoring)\n",
    "end_cv = time.time()\n",
    "cv_elapsed = end_cv - start_cv\n",
    "print('Ridge Cross Val time: ' + str(cv_elapsed))\n",
    "cross_val_times_no_dr.append(cv_elapsed)\n",
    "\n",
    "print('Ridge Cross Val Score: ' + str(-1 * cv_score.mean()))\n",
    "scores_no_dr.append(-1 * cv_score.mean())"
   ]
  },
  {
   "cell_type": "code",
   "execution_count": 70,
   "id": "38b737df",
   "metadata": {},
   "outputs": [
    {
     "name": "stdout",
     "output_type": "stream",
     "text": [
      "Lasso fit time: 0.4220402240753174\n",
      "Lasso Cross Val time: 3.0977790355682373\n",
      "Lasso Cross Val Score: 119.70589580324604\n"
     ]
    }
   ],
   "source": [
    "regressors_no_dr['lasso'] = Lasso()\n",
    "start_fit = time.time()\n",
    "regressors_no_dr['lasso'].fit(X_train, y_train)\n",
    "end_fit = time.time()\n",
    "fit_elapsed = end_fit - start_fit\n",
    "print('Lasso fit time: ' + str(fit_elapsed))\n",
    "fit_times_no_dr.append(fit_elapsed)\n",
    "\n",
    "start_cv = time.time()\n",
    "cv_score = cross_val_score(regressors_no_dr['lasso'], X_train, y_train, cv=kf, scoring=scoring)\n",
    "end_cv = time.time()\n",
    "cv_elapsed = end_cv - start_cv\n",
    "print('Lasso Cross Val time: ' + str(cv_elapsed))\n",
    "cross_val_times_no_dr.append(cv_elapsed)\n",
    "\n",
    "print('Lasso Cross Val Score: ' + str(-1 * cv_score.mean()))\n",
    "scores_no_dr.append(-1 * cv_score.mean())"
   ]
  },
  {
   "cell_type": "code",
   "execution_count": 71,
   "id": "8e19f132",
   "metadata": {},
   "outputs": [
    {
     "name": "stdout",
     "output_type": "stream",
     "text": [
      "XGB fit time: 94.98251914978027\n",
      "XGB Cross Val time: 402.94389939308167\n",
      "XGB Cross Val Score: 82.0975079652743\n"
     ]
    }
   ],
   "source": [
    "regressors_no_dr['xgboost'] = xgb.XGBRegressor()\n",
    "start_fit = time.time()\n",
    "regressors_no_dr['xgboost'].fit(X_train, y_train)\n",
    "end_fit = time.time()\n",
    "fit_elapsed = end_fit - start_fit\n",
    "print('XGB fit time: ' + str(fit_elapsed))\n",
    "fit_times_no_dr.append(fit_elapsed)\n",
    "\n",
    "start_cv = time.time()\n",
    "cv_score = cross_val_score(regressors_no_dr['xgboost'], X_train, y_train, cv=kf, scoring=scoring)\n",
    "end_cv = time.time()\n",
    "cv_elapsed = end_cv - start_cv\n",
    "print('XGB Cross Val time: ' + str(cv_elapsed))\n",
    "cross_val_times_no_dr.append(cv_elapsed)\n",
    "\n",
    "print('XGB Cross Val Score: ' + str(-1 * cv_score.mean()))\n",
    "scores_no_dr.append(-1 * cv_score.mean())"
   ]
  },
  {
   "cell_type": "code",
   "execution_count": 72,
   "id": "ab6af673",
   "metadata": {},
   "outputs": [
    {
     "name": "stdout",
     "output_type": "stream",
     "text": [
      "Adaboost fit time: 350.2642512321472\n",
      "Adaboost Cross Val time: 1248.851053237915\n",
      "Adaboost Cross Val Score: 162.34528628693278\n"
     ]
    }
   ],
   "source": [
    "regressors_no_dr['adaboost'] = AdaBoostRegressor()\n",
    "start_fit = time.time()\n",
    "regressors_no_dr['adaboost'].fit(X_train, y_train)\n",
    "end_fit = time.time()\n",
    "fit_elapsed = end_fit - start_fit\n",
    "print('Adaboost fit time: ' + str(fit_elapsed))\n",
    "fit_times_no_dr.append(fit_elapsed)\n",
    "\n",
    "start_cv = time.time()\n",
    "cv_score = cross_val_score(regressors_no_dr['adaboost'], X_train, y_train, cv=kf, scoring=scoring)\n",
    "end_cv = time.time()\n",
    "cv_elapsed = end_cv - start_cv\n",
    "print('Adaboost Cross Val time: ' + str(cv_elapsed))\n",
    "cross_val_times_no_dr.append(cv_elapsed)\n",
    "\n",
    "print('Adaboost Cross Val Score: ' + str(-1 * cv_score.mean()))\n",
    "scores_no_dr.append(-1 * cv_score.mean())"
   ]
  },
  {
   "cell_type": "code",
   "execution_count": 73,
   "id": "ba4f36ba",
   "metadata": {},
   "outputs": [
    {
     "name": "stdout",
     "output_type": "stream",
     "text": [
      "Bagging fit time: 745.2944984436035\n",
      "Bagging Cross Val time: 2485.3423709869385\n",
      "Bagging Cross Val Score: 95.4332445283801\n"
     ]
    }
   ],
   "source": [
    "regressors_no_dr['bagging'] = BaggingRegressor()\n",
    "start_fit = time.time()\n",
    "regressors_no_dr['bagging'].fit(X_train, y_train)\n",
    "end_fit = time.time()\n",
    "fit_elapsed = end_fit - start_fit\n",
    "print('Bagging fit time: ' + str(fit_elapsed))\n",
    "fit_times_no_dr.append(fit_elapsed) \n",
    "\n",
    "start_cv = time.time()\n",
    "cv_score = cross_val_score(regressors_no_dr['bagging'], X_train, y_train, cv=kf, scoring=scoring)\n",
    "end_cv = time.time()\n",
    "cv_elapsed = end_cv - start_cv\n",
    "print('Bagging Cross Val time: ' + str(cv_elapsed))\n",
    "cross_val_times_no_dr.append(cv_elapsed)\n",
    "\n",
    "print('Bagging Cross Val Score: ' + str(-1 * cv_score.mean()))\n",
    "scores_no_dr.append(-1 * cv_score.mean())"
   ]
  },
  {
   "cell_type": "markdown",
   "id": "081bdcfc",
   "metadata": {},
   "source": [
    "## Plot Fit Times"
   ]
  },
  {
   "cell_type": "code",
   "execution_count": 98,
   "id": "a7b70be2",
   "metadata": {},
   "outputs": [
    {
     "data": {
      "text/plain": [
       "Text(0, 0.5, 'Time in Seconds')"
      ]
     },
     "execution_count": 98,
     "metadata": {},
     "output_type": "execute_result"
    },
    {
     "data": {
      "image/png": "[encoded data removed]",
      "text/plain": [
       "<Figure size 432x288 with 1 Axes>"
      ]
     },
     "metadata": {
      "needs_background": "light"
     },
     "output_type": "display_data"
    }
   ],
   "source": [
    "models = [key for key in regressors_no_dr.keys() if regressors_no_dr[key] is not None]\n",
    "plt.bar(models, fit_times_no_dr, color='orange') \n",
    "plt.xlabel('Model Type')\n",
    "plt.ylabel('Time in Seconds')"
   ]
  },
  {
   "cell_type": "markdown",
   "id": "58f10164",
   "metadata": {},
   "source": [
    "## Plot Cross Val Times"
   ]
  },
  {
   "cell_type": "code",
   "execution_count": 105,
   "id": "1d438829",
   "metadata": {},
   "outputs": [
    {
     "data": {
      "text/plain": [
       "Text(0, 0.5, 'Time in Seconds')"
      ]
     },
     "execution_count": 105,
     "metadata": {},
     "output_type": "execute_result"
    },
    {
     "data": {
      "image/png": "[encoded data removed]",
      "text/plain": [
       "<Figure size 432x288 with 1 Axes>"
      ]
     },
     "metadata": {
      "needs_background": "light"
     },
     "output_type": "display_data"
    }
   ],
   "source": [
    "models = [key for key in regressors_no_dr.keys() if regressors_no_dr[key] is not None]\n",
    "plt.bar(models, cross_val_times_no_dr, color='purple')\n",
    "plt.xlabel('Model Type')\n",
    "plt.ylabel('Time in Seconds')"
   ]
  },
  {
   "cell_type": "markdown",
   "id": "9b133fa3",
   "metadata": {},
   "source": [
    "### Plot Mean Squared Error Bar Chart"
   ]
  },
  {
   "cell_type": "code",
   "execution_count": 104,
   "id": "fca10e77",
   "metadata": {
    "scrolled": true
   },
   "outputs": [
    {
     "data": {
      "text/plain": [
       "Text(0, 0.5, 'Mean Cross Validation Score')"
      ]
     },
     "execution_count": 104,
     "metadata": {},
     "output_type": "execute_result"
    },
    {
     "data": {
      "image/png": "[encoded data removed]",
      "text/plain": [
       "<Figure size 432x288 with 1 Axes>"
      ]
     },
     "metadata": {
      "needs_background": "light"
     },
     "output_type": "display_data"
    }
   ],
   "source": [
    "models = [key for key in regressors_no_dr.keys() if regressors_no_dr[key] is not None]\n",
    "plt.bar(models, scores_no_dr, color='red')\n",
    "plt.xlabel('Model Type')\n",
    "plt.ylabel('Mean Cross Validation Score')"
   ]
  },
  {
   "cell_type": "code",
   "execution_count": 77,
   "id": "7b8cfde4",
   "metadata": {},
   "outputs": [],
   "source": [
    "test_scores_no_dr = []\n",
    "for key in regressors_no_dr.keys():\n",
    "    curr_model = regressors_no_dr[key]\n",
    "    if curr_model is not None:\n",
    "        test_scores_no_dr.append(curr_model.score(X_test, y_test))"
   ]
  },
  {
   "cell_type": "code",
   "execution_count": 106,
   "id": "eadf5efa",
   "metadata": {},
   "outputs": [
    {
     "data": {
      "text/plain": [
       "Text(0, 0.5, 'Score')"
      ]
     },
     "execution_count": 106,
     "metadata": {},
     "output_type": "execute_result"
    },
    {
     "data": {
      "image/png": "[encoded data removed]",
      "text/plain": [
       "<Figure size 432x288 with 1 Axes>"
      ]
     },
     "metadata": {
      "needs_background": "light"
     },
     "output_type": "display_data"
    }
   ],
   "source": [
    "models = [key for key in regressors_no_dr.keys() if regressors_no_dr[key] is not None]\n",
    "plt.bar(models, test_scores_no_dr, color='red')\n",
    "plt.xlabel('Model Type')\n",
    "plt.ylabel('Score')"
   ]
  },
  {
   "cell_type": "markdown",
   "id": "995f8165",
   "metadata": {},
   "source": [
    "## Dimensionality Reduction"
   ]
  },
  {
   "cell_type": "code",
   "execution_count": 79,
   "id": "9cabb288",
   "metadata": {},
   "outputs": [],
   "source": [
    "pca_dr = PCA(n_components=0.85)\n",
    "pca_dr.fit(X_train)\n",
    "X_train = pca_dr.transform(X_train)\n",
    "X_test = pca_dr.transform(X_test)"
   ]
  },
  {
   "cell_type": "markdown",
   "id": "d70d5816",
   "metadata": {},
   "source": [
    "## Fitting Models with Dimensionality Reduction"
   ]
  },
  {
   "cell_type": "code",
   "execution_count": 80,
   "id": "549e4a8c",
   "metadata": {},
   "outputs": [],
   "source": [
    "kf = KFold(n_splits=5)\n",
    "scoring = 'neg_mean_squared_error'\n",
    "regressors={'linear':None,'ridge':None,'lasso':None, 'xgboost':None, 'adaboost':None, 'bagging':None}\n",
    "scores = []\n",
    "fit_times = []\n",
    "cross_val_times = []"
   ]
  },
  {
   "cell_type": "code",
   "execution_count": 81,
   "id": "b8107179",
   "metadata": {},
   "outputs": [
    {
     "name": "stdout",
     "output_type": "stream",
     "text": [
      "Linear fit time: 0.3125491142272949\n",
      "Linear Cross Val time: 1.4843175411224365\n",
      "Linear Cross Val Score: 94.43800701487991\n"
     ]
    }
   ],
   "source": [
    "regressors['linear'] = LinearRegression()\n",
    "start_fit = time.time()\n",
    "regressors['linear'].fit(X_train, y_train)\n",
    "end_fit = time.time()\n",
    "fit_elapsed = end_fit - start_fit\n",
    "print('Linear fit time: ' + str(fit_elapsed))\n",
    "fit_times.append(fit_elapsed)\n",
    "\n",
    "start_cv = time.time()\n",
    "cv_score = cross_val_score(regressors['linear'], X_train, y_train, cv=kf, scoring=scoring)\n",
    "end_cv = time.time()\n",
    "cv_elapsed = end_cv - start_cv\n",
    "print('Linear Cross Val time: ' + str(cv_elapsed))\n",
    "cross_val_times.append(cv_elapsed)\n",
    "\n",
    "print('Linear Cross Val Score: ' + str(-1 * cv_score.mean()))\n",
    "scores.append(-1 * cv_score.mean())"
   ]
  },
  {
   "cell_type": "code",
   "execution_count": 82,
   "id": "51d4e697",
   "metadata": {},
   "outputs": [
    {
     "name": "stdout",
     "output_type": "stream",
     "text": [
      "Ridge fit time: 0.09559273719787598\n",
      "Ridge Cross Val time: 0.6270849704742432\n",
      "Ridge Cross Val Score: 94.43789628811642\n"
     ]
    }
   ],
   "source": [
    "regressors['ridge'] = Ridge()\n",
    "start_fit = time.time()\n",
    "regressors['ridge'].fit(X_train, y_train)\n",
    "end_fit = time.time()\n",
    "fit_elapsed = end_fit - start_fit\n",
    "print('Ridge fit time: ' + str(fit_elapsed))\n",
    "fit_times.append(fit_elapsed)\n",
    "\n",
    "start_cv = time.time()\n",
    "cv_score = cross_val_score(regressors['ridge'], X_train, y_train, cv=kf, scoring=scoring)\n",
    "end_cv = time.time()\n",
    "cv_elapsed = end_cv - start_cv\n",
    "print('Ridge Cross Val time: ' + str(cv_elapsed))\n",
    "cross_val_times.append(cv_elapsed)\n",
    "\n",
    "print('Ridge Cross Val Score: ' + str(-1 * cv_score.mean()))\n",
    "scores.append(-1 * cv_score.mean())"
   ]
  },
  {
   "cell_type": "code",
   "execution_count": 83,
   "id": "990c9641",
   "metadata": {},
   "outputs": [
    {
     "name": "stdout",
     "output_type": "stream",
     "text": [
      "Lasso fit time: 0.20563030242919922\n",
      "Lasso Cross Val time: 1.0577306747436523\n",
      "Lasso Cross Val Score: 119.70589580324604\n"
     ]
    }
   ],
   "source": [
    "regressors['lasso'] = Lasso()\n",
    "start_fit = time.time()\n",
    "regressors['lasso'].fit(X_train, y_train)\n",
    "end_fit = time.time()\n",
    "fit_elapsed = end_fit - start_fit\n",
    "print('Lasso fit time: ' + str(fit_elapsed))\n",
    "fit_times.append(fit_elapsed)\n",
    "\n",
    "start_cv = time.time()\n",
    "cv_score = cross_val_score(regressors['lasso'], X_train, y_train, cv=kf, scoring=scoring)\n",
    "end_cv = time.time()\n",
    "cv_elapsed = end_cv - start_cv\n",
    "print('Lasso Cross Val time: ' + str(cv_elapsed))\n",
    "cross_val_times.append(cv_elapsed)\n",
    "\n",
    "print('Lasso Cross Val Score: ' + str(-1 * cv_score.mean()))\n",
    "scores.append(-1 * cv_score.mean())"
   ]
  },
  {
   "cell_type": "code",
   "execution_count": 84,
   "id": "7ce77836",
   "metadata": {},
   "outputs": [
    {
     "name": "stdout",
     "output_type": "stream",
     "text": [
      "XGB fit time: 37.72370886802673\n",
      "XGB Cross Val time: 157.3446910381317\n",
      "XGB Cross Val Score: 84.82655267265176\n"
     ]
    }
   ],
   "source": [
    "regressors['xgboost'] = xgb.XGBRegressor()\n",
    "start_fit = time.time()\n",
    "regressors['xgboost'].fit(X_train, y_train)\n",
    "end_fit = time.time()\n",
    "fit_elapsed = end_fit - start_fit\n",
    "print('XGB fit time: ' + str(fit_elapsed))\n",
    "fit_times.append(fit_elapsed)\n",
    "\n",
    "start_cv = time.time()\n",
    "cv_score = cross_val_score(regressors['xgboost'], X_train, y_train, cv=kf, scoring=scoring)\n",
    "end_cv = time.time()\n",
    "cv_elapsed = end_cv - start_cv\n",
    "print('XGB Cross Val time: ' + str(cv_elapsed))\n",
    "cross_val_times.append(cv_elapsed)\n",
    "\n",
    "print('XGB Cross Val Score: ' + str(-1 * cv_score.mean()))\n",
    "scores.append(-1 * cv_score.mean())"
   ]
  },
  {
   "cell_type": "code",
   "execution_count": 85,
   "id": "eb694706",
   "metadata": {},
   "outputs": [
    {
     "name": "stdout",
     "output_type": "stream",
     "text": [
      "Adaboost fit time: 118.34328627586365\n",
      "Adaboost Cross Val time: 507.07299876213074\n",
      "Adaboost Cross Val Score: 174.19274605662866\n"
     ]
    }
   ],
   "source": [
    "regressors['adaboost'] = AdaBoostRegressor()\n",
    "start_fit = time.time()\n",
    "regressors['adaboost'].fit(X_train, y_train)\n",
    "end_fit = time.time()\n",
    "fit_elapsed = end_fit - start_fit\n",
    "print('Adaboost fit time: ' + str(fit_elapsed))\n",
    "fit_times.append(fit_elapsed)\n",
    " \n",
    "start_cv = time.time()\n",
    "cv_score = cross_val_score(regressors['adaboost'], X_train, y_train, cv=kf, scoring=scoring)\n",
    "end_cv = time.time()\n",
    "cv_elapsed = end_cv - start_cv\n",
    "print('Adaboost Cross Val time: ' + str(cv_elapsed))\n",
    "cross_val_times.append(cv_elapsed)\n",
    "\n",
    "print('Adaboost Cross Val Score: ' + str(-1 * cv_score.mean()))\n",
    "scores.append(-1 * cv_score.mean())"
   ]
  },
  {
   "cell_type": "code",
   "execution_count": 86,
   "id": "47c43b3a",
   "metadata": {},
   "outputs": [
    {
     "name": "stdout",
     "output_type": "stream",
     "text": [
      "Bagging fit time: 158.8324534893036\n",
      "Bagging Cross Val time: 633.1727383136749\n",
      "Bagging Cross Val Score: 96.88705201291023\n"
     ]
    }
   ],
   "source": [
    "regressors['bagging'] = BaggingRegressor()\n",
    "start_fit = time.time()\n",
    "regressors['bagging'].fit(X_train, y_train)\n",
    "end_fit = time.time()\n",
    "fit_elapsed = end_fit - start_fit\n",
    "print('Bagging fit time: ' + str(fit_elapsed))\n",
    "fit_times.append(fit_elapsed)\n",
    "  \n",
    "start_cv = time.time()\n",
    "cv_score = cross_val_score(regressors['bagging'], X_train, y_train, cv=kf, scoring=scoring)\n",
    "end_cv = time.time()\n",
    "cv_elapsed = end_cv - start_cv\n",
    "print('Bagging Cross Val time: ' + str(cv_elapsed))\n",
    "cross_val_times.append(cv_elapsed)\n",
    "\n",
    "print('Bagging Cross Val Score: ' + str(-1 * cv_score.mean()))\n",
    "scores.append(-1 * cv_score.mean())"
   ]
  },
  {
   "cell_type": "markdown",
   "id": "f716df25",
   "metadata": {},
   "source": [
    "## Plot Fit Times"
   ]
  },
  {
   "cell_type": "code",
   "execution_count": 99,
   "id": "e0affe3c",
   "metadata": {},
   "outputs": [
    {
     "data": {
      "text/plain": [
       "Text(0, 0.5, 'Time in Seconds')"
      ]
     },
     "execution_count": 99,
     "metadata": {},
     "output_type": "execute_result"
    },
    {
     "data": {
      "image/png": "[encoded data removed]",
      "text/plain": [
       "<Figure size 432x288 with 1 Axes>"
      ]
     },
     "metadata": {
      "needs_background": "light"
     },
     "output_type": "display_data"
    }
   ],
   "source": [
    "models = [key for key in regressors_no_dr.keys() if regressors_no_dr[key] is not None]\n",
    "plt.bar(models, fit_times, color='blue')\n",
    "plt.xlabel('Model Type')\n",
    "plt.ylabel('Time in Seconds')"
   ]
  },
  {
   "cell_type": "markdown",
   "id": "fb26a4b9",
   "metadata": {},
   "source": [
    "## Plot Cross Val Times"
   ]
  },
  {
   "cell_type": "code",
   "execution_count": 100,
   "id": "6d46e6d5",
   "metadata": {},
   "outputs": [
    {
     "data": {
      "text/plain": [
       "Text(0, 0.5, 'Time in Seconds')"
      ]
     },
     "execution_count": 100,
     "metadata": {},
     "output_type": "execute_result"
    },
    {
     "data": {
      "image/png": "[encoded data removed]",
      "text/plain": [
       "<Figure size 432x288 with 1 Axes>"
      ]
     },
     "metadata": {
      "needs_background": "light"
     },
     "output_type": "display_data"
    }
   ],
   "source": [
    "models = [key for key in regressors_no_dr.keys() if regressors_no_dr[key] is not None]\n",
    "plt.bar(models, cross_val_times, color='yellow')\n",
    "plt.xlabel('Model Type')\n",
    "plt.ylabel('Time in Seconds')"
   ]
  },
  {
   "cell_type": "markdown",
   "id": "a9e46afc",
   "metadata": {},
   "source": [
    "### Plot Mean Squared Error Bar Chart"
   ]
  },
  {
   "cell_type": "code",
   "execution_count": 102,
   "id": "74d8c850",
   "metadata": {
    "scrolled": true
   },
   "outputs": [
    {
     "data": {
      "text/plain": [
       "Text(0, 0.5, 'Mean Cross Validation Score')"
      ]
     },
     "execution_count": 102,
     "metadata": {},
     "output_type": "execute_result"
    },
    {
     "data": {
      "image/png": "[encoded data removed]",
      "text/plain": [
       "<Figure size 432x288 with 1 Axes>"
      ]
     },
     "metadata": {
      "needs_background": "light"
     },
     "output_type": "display_data"
    }
   ],
   "source": [
    "models = [key for key in regressors_no_dr.keys() if regressors_no_dr[key] is not None]\n",
    "plt.bar(models, scores, color='green')\n",
    "plt.xlabel('Model Type')\n",
    "plt.ylabel('Mean Cross Validation Score')"
   ]
  },
  {
   "cell_type": "code",
   "execution_count": 90,
   "id": "b5db4d30",
   "metadata": {},
   "outputs": [],
   "source": [
    "test_scores = []\n",
    "for key in regressors.keys():\n",
    "    curr_model = regressors[key]\n",
    "    if curr_model is not None:\n",
    "        test_scores.append(curr_model.score(X_test, y_test))"
   ]
  },
  {
   "cell_type": "code",
   "execution_count": 103,
   "id": "52c069ff",
   "metadata": {},
   "outputs": [
    {
     "data": {
      "text/plain": [
       "Text(0, 0.5, 'Score')"
      ]
     },
     "execution_count": 103,
     "metadata": {},
     "output_type": "execute_result"
    },
    {
     "data": {
      "image/png": "[encoded data removed]",
      "text/plain": [
       "<Figure size 432x288 with 1 Axes>"
      ]
     },
     "metadata": {
      "needs_background": "light"
     },
     "output_type": "display_data"
    }
   ],
   "source": [
    "models = [key for key in regressors_no_dr.keys() if regressors_no_dr[key] is not None]\n",
    "plt.bar(models, test_scores, color='blue')\n",
    "plt.xlabel('Model Type')\n",
    "plt.ylabel('Score')"
   ]
  },
  {
   "cell_type": "code",
   "execution_count": null,
   "id": "dd882450",
   "metadata": {},
   "outputs": [],
   "source": []
  }
 ],
 "metadata": {
  "kernelspec": {
   "display_name": "Python 3 (ipykernel)",
   "language": "python",
   "name": "python3"
  },
  "language_info": {
   "codemirror_mode": {
    "name": "ipython",
    "version": 3
   },
   "file_extension": ".py",
   "mimetype": "text/x-python",
   "name": "python",
   "nbconvert_exporter": "python",
   "pygments_lexer": "ipython3",
   "version": "3.9.12"
  }
 },
 "nbformat": 4,
 "nbformat_minor": 5
}
